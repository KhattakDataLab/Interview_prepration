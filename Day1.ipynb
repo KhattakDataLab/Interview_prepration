{
 "cells": [
  {
   "cell_type": "code",
   "execution_count": 1,
   "metadata": {},
   "outputs": [],
   "source": [
    "# importing necessary library \n",
    "import pandas as pd \n",
    "import numpy as np \n",
    "import matplotlib.pyplot as plt \n",
    "import seaborn as sns \n",
    "import sqlite3"
   ]
  },
  {
   "cell_type": "code",
   "execution_count": 4,
   "metadata": {},
   "outputs": [
    {
     "name": "stdout",
     "output_type": "stream",
     "text": [
      "10 \n",
      " 20.8 \n",
      " Zeeshan khattak Data Science\n"
     ]
    }
   ],
   "source": [
    "# variables store data values \n",
    "a=10 \n",
    "b=20.8\n",
    "name='Zeeshan khattak Data Science'\n",
    "print(a,'\\n',b,'\\n',name)"
   ]
  },
  {
   "cell_type": "code",
   "execution_count": 5,
   "metadata": {},
   "outputs": [],
   "source": [
    "# List are store multiple value in a single variable \n",
    "my_list =[1,2,3,4,5,7] # A list of Integer \n",
    "\n",
    "# Dictionaries Store Data  in key - value Pairs \n",
    "my_dic = {'name':'Zeeshan','Age':23,'city':'Islamab'}\n",
    "\n",
    "# Tuples are Similar to Lists but Are Imutable (Can not Changed)\n",
    "my_tuple=(10,20,30) # A tuple of Integr\n",
    "\n",
    "\n",
    "# Set are Collection of Unique Items \n",
    "my_set={1,2,3,4,5}\n"
   ]
  },
  {
   "cell_type": "code",
   "execution_count": 7,
   "metadata": {},
   "outputs": [
    {
     "name": "stdout",
     "output_type": "stream",
     "text": [
      "[1, 2, 3, 4, 5, 7]\n",
      "{'name': 'Zeeshan', 'Age': 23, 'city': 'Islamab'}\n",
      "{1, 2, 3, 4, 5}\n",
      "(10, 20, 30)\n"
     ]
    }
   ],
   "source": [
    "print(my_list)\n",
    "print(my_dic)\n",
    "print(my_set)\n",
    "print(my_tuple)"
   ]
  },
  {
   "cell_type": "code",
   "execution_count": 9,
   "metadata": {},
   "outputs": [
    {
     "name": "stdout",
     "output_type": "stream",
     "text": [
      "0\n",
      "1\n",
      "2\n",
      "3\n",
      "4\n"
     ]
    }
   ],
   "source": [
    "## Loops And Function \n",
    "for i in range(5): # Loop are used to iterate over a sequence\n",
    "    print(i) # print(0 to 4)"
   ]
  },
  {
   "cell_type": "code",
   "execution_count": 10,
   "metadata": {},
   "outputs": [
    {
     "name": "stdout",
     "output_type": "stream",
     "text": [
      "0\n",
      "1\n",
      "2\n",
      "3\n",
      "4\n"
     ]
    }
   ],
   "source": [
    "## while Loop \n",
    "# A while Loop runs as long the Condition is true\n",
    "count= 0\n",
    "while count<5:\n",
    "    print(count)\n",
    "    count +=1"
   ]
  },
  {
   "cell_type": "code",
   "execution_count": 11,
   "metadata": {},
   "outputs": [
    {
     "name": "stdout",
     "output_type": "stream",
     "text": [
      "Result 40\n"
     ]
    }
   ],
   "source": [
    "# Function \n",
    "# Function Are block of code theat perform a Specific Problem \n",
    "def add_number(x,y):\n",
    "    return x+y  # return the sum X and Y\n",
    "\n",
    "\n",
    "\n",
    "# Calling The function\n",
    "result = add_number(10,30)\n",
    "print('Result',result)"
   ]
  },
  {
   "cell_type": "code",
   "execution_count": null,
   "metadata": {},
   "outputs": [],
   "source": []
  },
  {
   "cell_type": "markdown",
   "metadata": {},
   "source": [
    "# Working with Data in Pandas "
   ]
  },
  {
   "cell_type": "markdown",
   "metadata": {},
   "source": [
    "### loading Data"
   ]
  },
  {
   "cell_type": "code",
   "execution_count": 12,
   "metadata": {},
   "outputs": [
    {
     "name": "stdout",
     "output_type": "stream",
     "text": [
      "      Name  Age  Salry\n",
      "0  Zeeshan   22  90000\n",
      "1     Khan   21  80000\n",
      "2   Maryam   23  85000\n",
      "3   Ayesha   20  70000\n"
     ]
    }
   ],
   "source": [
    "# creating a Sample Data Frame using Dictionary \n",
    "\n",
    "data ={\n",
    "    'Name':['Zeeshan','Khan','Maryam','Ayesha'],\n",
    "    'Age' :[22,21,23,20],\n",
    "    'Salry':[90000,80000,85000,70000]\n",
    "\n",
    "}\n",
    "df =pd.DataFrame(data)\n",
    "print(df)"
   ]
  },
  {
   "cell_type": "markdown",
   "metadata": {},
   "source": [
    "### Basic Data operation\n"
   ]
  },
  {
   "cell_type": "code",
   "execution_count": 13,
   "metadata": {},
   "outputs": [
    {
     "name": "stdout",
     "output_type": "stream",
     "text": [
      "0    Zeeshan\n",
      "1       Khan\n",
      "2     Maryam\n",
      "3     Ayesha\n",
      "Name: Name, dtype: object\n"
     ]
    }
   ],
   "source": [
    "# Selecting A Column from the DataFrame\n",
    "names=df['Name']\n",
    "print(names)"
   ]
  },
  {
   "cell_type": "code",
   "execution_count": 15,
   "metadata": {},
   "outputs": [
    {
     "name": "stdout",
     "output_type": "stream",
     "text": [
      "      Name  Age  Salry\n",
      "0  Zeeshan   22  90000\n",
      "2   Maryam   23  85000\n"
     ]
    }
   ],
   "source": [
    "# Filtring Rows based on Condition \n",
    "high_Salry=df[df['Salry']>80000]\n",
    "print(high_Salry)"
   ]
  },
  {
   "cell_type": "code",
   "execution_count": 16,
   "metadata": {},
   "outputs": [
    {
     "name": "stdout",
     "output_type": "stream",
     "text": [
      "Age\n",
      "20    70000.0\n",
      "21    80000.0\n",
      "22    90000.0\n",
      "23    85000.0\n",
      "Name: Salry, dtype: float64\n"
     ]
    }
   ],
   "source": [
    "# grouping Data by Age And Calulating the mean Salry\n",
    "Avg_salry_by_age=df.groupby('Age')['Salry'].mean()\n",
    "print(Avg_salry_by_age)"
   ]
  },
  {
   "cell_type": "code",
   "execution_count": null,
   "metadata": {},
   "outputs": [],
   "source": []
  },
  {
   "cell_type": "markdown",
   "metadata": {},
   "source": [
    "# Data Visulizstion With matplotlib And Seaborn "
   ]
  },
  {
   "cell_type": "code",
   "execution_count": 17,
   "metadata": {},
   "outputs": [
    {
     "data": {
      "image/png": "[encoded data removed]",
      "text/plain": [
       "<Figure size 640x480 with 1 Axes>"
      ]
     },
     "metadata": {},
     "output_type": "display_data"
    }
   ],
   "source": [
    "# Matplotlib -Basic Line Plot \n",
    "plt.plot(figsize=(8,5)) # set the figure size \n",
    "plt.plot(df['Name'],df['Salry'],color='blue',marker='o')\n",
    "plt.title('Salry By Name ')\n",
    "plt.xlabel('Name') # x-axis label\n",
    "plt.ylabel('Salry') # y-label\n",
    "plt.show()"
   ]
  },
  {
   "cell_type": "code",
   "execution_count": 19,
   "metadata": {},
   "outputs": [
    {
     "data": {
      "image/png": "[encoded data removed]",
      "text/plain": [
       "<Figure size 640x480 with 1 Axes>"
      ]
     },
     "metadata": {},
     "output_type": "display_data"
    }
   ],
   "source": [
    "# Seaborn Bar plo\n",
    "sns.barplot(x='Name',y='Salry',data=df)\n",
    "plt.title('Salry By name')\n",
    "plt.show()"
   ]
  },
  {
   "cell_type": "code",
   "execution_count": null,
   "metadata": {},
   "outputs": [],
   "source": []
  },
  {
   "cell_type": "markdown",
   "metadata": {},
   "source": [
    "# Simplified SQL integration "
   ]
  },
  {
   "cell_type": "code",
   "execution_count": 23,
   "metadata": {},
   "outputs": [
    {
     "name": "stdout",
     "output_type": "stream",
     "text": [
      "('Zeeshan', 22, 90000)\n",
      "('Maryam', 23, 85000)\n"
     ]
    }
   ],
   "source": [
    "# Setting up a SQLite in-memory database\n",
    "conn = sqlite3.connect(':memory:')  # Create an in-memory database (temporary)\n",
    "\n",
    "# Creating a table to store employee data\n",
    "cursor = conn.cursor()  # Create a cursor object to interact with the database\n",
    "cursor.execute('''CREATE TABLE employees (Name TEXT, Age INTEGER, Salry INTEGER)''')  # Create a table\n",
    "\n",
    "# Inserting data from the DataFrame into the SQL table\n",
    "for row in df.itertuples():  # Loop through each row in the DataFrame\n",
    "    cursor.execute('''INSERT INTO employees (Name, Age, Salry) VALUES (?, ?, ?)''', (row.Name, row.Age, row.Salry))  # Insert data into the table\n",
    "\n",
    "# Querying the data from the SQL table\n",
    "cursor.execute('''SELECT * FROM employees WHERE Salry > 80000''')  # Select employees with a salary greater than 80000\n",
    "rows = cursor.fetchall()  # Fetch all the matching rows\n",
    "\n",
    "# Displaying the results\n",
    "for row in rows:  # Loop through the fetched rows\n",
    "    print(row)  # Print each row\n",
    "\n",
    "# Closing the database connection\n",
    "conn.close()  # Close the connection\n"
   ]
  },
  {
   "cell_type": "code",
   "execution_count": null,
   "metadata": {},
   "outputs": [],
   "source": []
  },
  {
   "cell_type": "code",
   "execution_count": 24,
   "metadata": {},
   "outputs": [
    {
     "name": "stdout",
     "output_type": "stream",
     "text": [
      "Predicted Salary for age 28: 117000.0\n"
     ]
    },
    {
     "name": "stderr",
     "output_type": "stream",
     "text": [
      "c:\\Users\\basze\\AppData\\Local\\Programs\\Python\\Python312\\Lib\\site-packages\\sklearn\\base.py:493: UserWarning: X does not have valid feature names, but LinearRegression was fitted with feature names\n",
      "  warnings.warn(\n"
     ]
    }
   ],
   "source": [
    "# Case Study: Predicting Salaries based on Age using Simple Linear Regression\n",
    "from sklearn.linear_model import LinearRegression  # Import LinearRegression model\n",
    "\n",
    "# Preparing the data for the model\n",
    "X = df[['Age']]  # Independent variable (Age)\n",
    "y = df['Salry']  # Dependent variable (Salary)\n",
    "\n",
    "# Building and training the model\n",
    "model = LinearRegression()  # Create a LinearRegression model\n",
    "model.fit(X, y)  # Fit the model with the data\n",
    "\n",
    "# Predicting the salary for a new employee aged 28\n",
    "predicted_salary = model.predict([[28]])  # Predict salary for age 28\n",
    "print(\"Predicted Salary for age 28:\", predicted_salary[0])  # Print the predicted salary\n"
   ]
  },
  {
   "cell_type": "code",
   "execution_count": null,
   "metadata": {},
   "outputs": [],
   "source": []
  }
 ],
 "metadata": {
  "kernelspec": {
   "display_name": "Python 3",
   "language": "python",
   "name": "python3"
  },
  "language_info": {
   "codemirror_mode": {
    "name": "ipython",
    "version": 3
   },
   "file_extension": ".py",
   "mimetype": "text/x-python",
   "name": "python",
   "nbconvert_exporter": "python",
   "pygments_lexer": "ipython3",
   "version": "3.12.0"
  }
 },
 "nbformat": 4,
 "nbformat_minor": 2
}
